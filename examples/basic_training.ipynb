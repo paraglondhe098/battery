{
 "cells": [
  {
   "cell_type": "code",
   "metadata": {
    "collapsed": true,
    "ExecuteTime": {
     "end_time": "2025-01-11T21:07:30.189241Z",
     "start_time": "2025-01-11T21:07:27.460107Z"
    }
   },
   "source": [
    "from candle.trainer import Trainer\n",
    "from candle.callbacks import EarlyStopping, LRTracker\n",
    "import os"
   ],
   "outputs": [],
   "execution_count": 1
  },
  {
   "cell_type": "code",
   "source": [
    "import torch"
   ],
   "metadata": {
    "collapsed": false,
    "ExecuteTime": {
     "end_time": "2025-01-11T21:07:42.034135Z",
     "start_time": "2025-01-11T21:07:42.021992Z"
    }
   },
   "outputs": [],
   "execution_count": 2
  },
  {
   "cell_type": "code",
   "source": [
    "device = torch.device('cuda' if torch.cuda.is_available() else 'cpu')\n",
    "device"
   ],
   "metadata": {
    "collapsed": false,
    "ExecuteTime": {
     "end_time": "2025-01-11T21:07:42.529619Z",
     "start_time": "2025-01-11T21:07:42.486621Z"
    }
   },
   "outputs": [
    {
     "data": {
      "text/plain": [
       "device(type='cuda')"
      ]
     },
     "execution_count": 3,
     "metadata": {},
     "output_type": "execute_result"
    }
   ],
   "execution_count": 3
  },
  {
   "cell_type": "code",
   "source": [
    "from torchvision.datasets import MNIST"
   ],
   "metadata": {
    "collapsed": false,
    "ExecuteTime": {
     "end_time": "2025-01-11T21:07:44.563097Z",
     "start_time": "2025-01-11T21:07:42.795612Z"
    }
   },
   "outputs": [],
   "execution_count": 4
  },
  {
   "cell_type": "code",
   "source": [
    "from torch.utils.data import DataLoader\n",
    "from torchvision.transforms import transforms"
   ],
   "metadata": {
    "collapsed": false,
    "ExecuteTime": {
     "end_time": "2025-01-11T21:07:44.578143Z",
     "start_time": "2025-01-11T21:07:44.567412Z"
    }
   },
   "outputs": [],
   "execution_count": 5
  },
  {
   "cell_type": "code",
   "source": [
    "import torch\n",
    "print(torch.__version__)\n",
    "print(torch.version.cuda)  # Displays CUDA version"
   ],
   "metadata": {
    "collapsed": false,
    "ExecuteTime": {
     "end_time": "2025-01-11T21:07:44.716669Z",
     "start_time": "2025-01-11T21:07:44.706478Z"
    }
   },
   "outputs": [
    {
     "name": "stdout",
     "output_type": "stream",
     "text": [
      "2.5.1+cu124\n",
      "12.4\n"
     ]
    }
   ],
   "execution_count": 6
  },
  {
   "cell_type": "code",
   "source": [
    "!nvcc --version"
   ],
   "metadata": {
    "collapsed": false,
    "ExecuteTime": {
     "end_time": "2025-01-11T21:07:45.028463Z",
     "start_time": "2025-01-11T21:07:44.969616Z"
    }
   },
   "outputs": [
    {
     "name": "stdout",
     "output_type": "stream",
     "text": [
      "nvcc: NVIDIA (R) Cuda compiler driver\n",
      "Copyright (c) 2005-2024 NVIDIA Corporation\n",
      "Built on Tue_Feb_27_16:28:36_Pacific_Standard_Time_2024\n",
      "Cuda compilation tools, release 12.4, V12.4.99\n",
      "Build cuda_12.4.r12.4/compiler.33961263_0\n"
     ]
    }
   ],
   "execution_count": 7
  },
  {
   "cell_type": "code",
   "source": [
    "transform = transforms.Compose([\n",
    "    transforms.ToTensor(),\n",
    "    transforms.Normalize((0.1307,), (0.3081,))  # Mean and standard deviation for MNIST\n",
    "])\n",
    "\n",
    "# Step 2: Load the MNIST dataset\n",
    "train_ds = MNIST(root='./data', train=True, download=True, transform=transform)\n",
    "val_ds = MNIST(root='./data', train=False, download=True, transform=transform)\n",
    "\n",
    "# Step 3: Create DataLoaders\n",
    "train_loader = DataLoader(dataset=train_ds, batch_size=64, shuffle=True)\n",
    "val_loader = DataLoader(dataset=val_ds, batch_size=64, shuffle=False)"
   ],
   "metadata": {
    "collapsed": false,
    "ExecuteTime": {
     "end_time": "2025-01-11T21:07:46.095799Z",
     "start_time": "2025-01-11T21:07:45.881211Z"
    }
   },
   "outputs": [],
   "execution_count": 8
  },
  {
   "cell_type": "code",
   "source": [
    "train_ds[0][0].shape"
   ],
   "metadata": {
    "collapsed": false,
    "ExecuteTime": {
     "end_time": "2025-01-11T21:07:46.393517Z",
     "start_time": "2025-01-11T21:07:46.380312Z"
    }
   },
   "outputs": [
    {
     "data": {
      "text/plain": [
       "torch.Size([1, 28, 28])"
      ]
     },
     "execution_count": 9,
     "metadata": {},
     "output_type": "execute_result"
    }
   ],
   "execution_count": 9
  },
  {
   "cell_type": "code",
   "source": [
    "import torch.nn as nn\n",
    "import torch.nn.functional as F"
   ],
   "metadata": {
    "collapsed": false,
    "ExecuteTime": {
     "end_time": "2025-01-11T21:07:47.197179Z",
     "start_time": "2025-01-11T21:07:47.183925Z"
    }
   },
   "outputs": [],
   "execution_count": 10
  },
  {
   "cell_type": "code",
   "source": [
    "class GarmentClassifier(nn.Module):\n",
    "  def __init__(self):\n",
    "    super(GarmentClassifier,self).__init__()\n",
    "    self.pool = nn.MaxPool2d(2, stride=2)\n",
    "    self.conv1 = nn.Conv2d(in_channels=1,out_channels=6,kernel_size=(3,3),padding=1)\n",
    "    self.batchnorm1 = nn.BatchNorm2d(6)\n",
    "    self.conv2 = nn.Conv2d(6, 16, kernel_size=(3,3),padding=1)\n",
    "    self.batchnorm2 = nn.BatchNorm2d(16)\n",
    "    self.conv3 = nn.Conv2d(16, 32, kernel_size=(3,3),padding=1)\n",
    "    self.batchnorm3 = nn.BatchNorm2d(32)\n",
    "    self.conv4 = nn.Conv2d(32, 64, kernel_size=(3,3),padding=1)\n",
    "    self.batchnorm4 = nn.BatchNorm2d(64)\n",
    "    self.fc1 = nn.Linear(64 * 1 * 1, 128)\n",
    "    self.batchnorm5 = nn.BatchNorm1d(128)\n",
    "    self.fc2 = nn.Linear(128, 128)\n",
    "    self.batchnorm6 = nn.BatchNorm1d(128)\n",
    "    self.fc3 = nn.Linear(128, 64)\n",
    "    self.batchnorm7 = nn.BatchNorm1d(64)\n",
    "    self.fc4 = nn.Linear(64, 32)\n",
    "    self.batchnorm8 = nn.BatchNorm1d(32)\n",
    "    self.fc5 = nn.Linear(32, 10)\n",
    "    self.dropout = nn.Dropout1d(0.1)\n",
    "  def forward(self,x):\n",
    "    x = self.pool(F.mish(self.batchnorm1(self.conv1(x))))\n",
    "    x = self.pool(F.mish(self.batchnorm2(self.conv2(x))))\n",
    "    x = self.pool(F.mish(self.batchnorm3(self.conv3(x))))\n",
    "    x = self.pool(F.mish(self.batchnorm4(self.conv4(x))))\n",
    "    x = x.view(-1, 64 * 1 * 1)\n",
    "    x = self.dropout(x)\n",
    "    x = F.leaky_relu(self.batchnorm5(self.fc1(x)))\n",
    "    x = F.leaky_relu(self.batchnorm6(self.fc2(x)))\n",
    "    x = F.leaky_relu(self.batchnorm7(self.fc3(x)))\n",
    "    x = F.leaky_relu(self.batchnorm8(self.fc4(x)))\n",
    "    x = self.fc5(x)\n",
    "    return x\n"
   ],
   "metadata": {
    "collapsed": false,
    "ExecuteTime": {
     "end_time": "2025-01-11T21:07:47.631252Z",
     "start_time": "2025-01-11T21:07:47.618225Z"
    }
   },
   "outputs": [],
   "execution_count": 11
  },
  {
   "metadata": {
    "ExecuteTime": {
     "end_time": "2025-01-11T21:07:48.111290Z",
     "start_time": "2025-01-11T21:07:48.097020Z"
    }
   },
   "cell_type": "code",
   "source": "from candle.models.vision import BasicCNNClassifier",
   "outputs": [],
   "execution_count": 12
  },
  {
   "cell_type": "code",
   "source": [
    "model = BasicCNNClassifier(input_shape=(1,28,28), num_output_classes=10)\n",
    "model = model.to(device)"
   ],
   "metadata": {
    "collapsed": false,
    "ExecuteTime": {
     "end_time": "2025-01-11T21:07:48.761180Z",
     "start_time": "2025-01-11T21:07:48.656147Z"
    }
   },
   "outputs": [],
   "execution_count": 13
  },
  {
   "cell_type": "code",
   "source": [
    "from torchsummary import summary\n",
    "summary(model, input_size=(1, 28, 28))"
   ],
   "metadata": {
    "collapsed": false,
    "ExecuteTime": {
     "end_time": "2025-01-11T21:07:49.490320Z",
     "start_time": "2025-01-11T21:07:49.248105Z"
    }
   },
   "outputs": [
    {
     "name": "stdout",
     "output_type": "stream",
     "text": [
      "----------------------------------------------------------------\n",
      "        Layer (type)               Output Shape         Param #\n",
      "================================================================\n",
      "            Conv2d-1           [-1, 16, 28, 28]             160\n",
      "       BatchNorm2d-2           [-1, 16, 28, 28]              32\n",
      "              ReLU-3           [-1, 16, 28, 28]               0\n",
      "         MaxPool2d-4           [-1, 16, 14, 14]               0\n",
      "            Conv2d-5           [-1, 32, 14, 14]           4,640\n",
      "       BatchNorm2d-6           [-1, 32, 14, 14]              64\n",
      "         LeakyReLU-7           [-1, 32, 14, 14]               0\n",
      "         AvgPool2d-8             [-1, 32, 7, 7]               0\n",
      "            Conv2d-9             [-1, 64, 7, 7]          18,496\n",
      "      BatchNorm2d-10             [-1, 64, 7, 7]             128\n",
      "              ELU-11             [-1, 64, 7, 7]               0\n",
      "        MaxPool2d-12             [-1, 64, 3, 3]               0\n",
      "           Linear-13                  [-1, 128]          73,856\n",
      "      BatchNorm1d-14                  [-1, 128]             256\n",
      "             ReLU-15                  [-1, 128]               0\n",
      "           Linear-16                   [-1, 10]           1,290\n",
      "================================================================\n",
      "Total params: 98,922\n",
      "Trainable params: 98,922\n",
      "Non-trainable params: 0\n",
      "----------------------------------------------------------------\n",
      "Input size (MB): 0.00\n",
      "Forward/backward pass size (MB): 0.55\n",
      "Params size (MB): 0.38\n",
      "Estimated Total Size (MB): 0.93\n",
      "----------------------------------------------------------------\n"
     ]
    }
   ],
   "execution_count": 14
  },
  {
   "cell_type": "code",
   "source": [
    "loss_fn = torch.nn.CrossEntropyLoss()\n",
    "optimizer = torch.optim.Adam(model.parameters(), lr=0.01)"
   ],
   "metadata": {
    "collapsed": false,
    "ExecuteTime": {
     "end_time": "2025-01-11T21:07:50.397392Z",
     "start_time": "2025-01-11T21:07:50.384267Z"
    }
   },
   "outputs": [],
   "execution_count": 15
  },
  {
   "cell_type": "code",
   "source": [
    "from candle.metrics import Accuracy"
   ],
   "metadata": {
    "collapsed": false,
    "ExecuteTime": {
     "end_time": "2025-01-11T21:07:50.960146Z",
     "start_time": "2025-01-11T21:07:50.946761Z"
    }
   },
   "outputs": [],
   "execution_count": 16
  },
  {
   "cell_type": "code",
   "source": [
    "accuracy = Accuracy(binary_output=False)"
   ],
   "metadata": {
    "collapsed": false,
    "ExecuteTime": {
     "end_time": "2025-01-11T21:07:51.484823Z",
     "start_time": "2025-01-11T21:07:51.471642Z"
    }
   },
   "outputs": [],
   "execution_count": 17
  },
  {
   "cell_type": "code",
   "source": [],
   "metadata": {
    "collapsed": false,
    "ExecuteTime": {
     "end_time": "2025-01-11T21:07:51.968104Z",
     "start_time": "2025-01-11T21:07:51.954468Z"
    }
   },
   "outputs": [],
   "execution_count": null
  },
  {
   "cell_type": "code",
   "source": [
    "trainer = Trainer( model,\n",
    "                 criterion=loss_fn,\n",
    "                 input_shape=(1,28,28),\n",
    "                 optimizer=optimizer,\n",
    "                 display_time_elapsed=False,\n",
    "                 metrics=[accuracy],\n",
    "                 callbacks= [EarlyStopping(basis=\"val_accuracy\", metric_minimize=True, patience=1),\n",
    "                             LRTracker()],\n",
    "                 use_amp= True,\n",
    "                 device=device)"
   ],
   "metadata": {
    "collapsed": false,
    "ExecuteTime": {
     "end_time": "2025-01-11T21:07:52.418216Z",
     "start_time": "2025-01-11T21:07:52.404817Z"
    }
   },
   "outputs": [],
   "execution_count": 18
  },
  {
   "cell_type": "code",
   "source": [
    "history = trainer.fit(train_loader,val_loader, epochs=5, epoch_start=0)"
   ],
   "metadata": {
    "collapsed": false,
    "ExecuteTime": {
     "end_time": "2025-01-11T21:08:33.175101Z",
     "start_time": "2025-01-11T21:07:53.146390Z"
    }
   },
   "outputs": [
    {
     "name": "stderr",
     "output_type": "stream",
     "text": [
      "EPOCH 0: : 938it [00:17, 53.72it/s]\n",
      "--> Metrics:   accuracy: 0.9723 ,val_accuracy: 0.9854 ,loss: 0.0900 ,val_loss: 0.0442\n",
      "----------------------------------------------------------------------------------------------------\n",
      "EPOCH 1: : 938it [00:18, 51.98it/s]\n",
      "--> Metrics:   accuracy: 0.9861 ,val_accuracy: 0.9868 ,loss: 0.0445 ,val_loss: 0.0425\n",
      "----------------------------------------------------------------------------------------------------\n",
      "Early-stopping at epoch 1, basis : val_accuracy↑\n",
      "----------------------------------------------------------------------------------------------------\n",
      "Restoring best weights...\n",
      "\tBest epoch: 0\n",
      "\tTraining loss: 0.0900\n",
      "\tValidation loss: 0.0442\n",
      "\tTraining accuracy: 0.9723\n",
      "\tValidation accuracy: 0.9854\n",
      "----------------------------------------------------------------------------------------------------\n"
     ]
    }
   ],
   "execution_count": 19
  },
  {
   "metadata": {
    "ExecuteTime": {
     "end_time": "2025-01-11T21:08:33.189945Z",
     "start_time": "2025-01-11T21:08:33.180101Z"
    }
   },
   "cell_type": "code",
   "source": "history",
   "outputs": [
    {
     "data": {
      "text/plain": [
       "{'accuracy': [0.9723314232409381, 0.9861074093816631],\n",
       " 'val_accuracy': [0.9853702229299363, 0.9867635350318471],\n",
       " 'loss': [0.08996184853944125, 0.04450817240564935],\n",
       " 'val_loss': [0.044190079780520905, 0.04249656062786746],\n",
       " 'lr': [0.01, 0.01]}"
      ]
     },
     "execution_count": 20,
     "metadata": {},
     "output_type": "execute_result"
    }
   ],
   "execution_count": 20
  },
  {
   "cell_type": "code",
   "source": [
    "# trainer.load_progress(r\"F:\\Projects\\ML\\MyLibs\\furnance\\temp\\saves\")"
   ],
   "metadata": {
    "collapsed": false,
    "ExecuteTime": {
     "end_time": "2025-01-11T21:05:23.884610600Z",
     "start_time": "2025-01-11T20:36:31.419762Z"
    }
   },
   "outputs": [],
   "execution_count": 20
  },
  {
   "cell_type": "code",
   "source": [
    "# trainer.tracker.metrics['val_accuracy'].latest"
   ],
   "metadata": {
    "collapsed": false,
    "ExecuteTime": {
     "end_time": "2025-01-11T21:05:23.884610600Z",
     "start_time": "2025-01-11T20:36:31.573139Z"
    }
   },
   "outputs": [],
   "execution_count": 25
  },
  {
   "cell_type": "code",
   "source": [],
   "metadata": {
    "collapsed": false,
    "ExecuteTime": {
     "end_time": "2025-01-11T21:05:23.885793200Z",
     "start_time": "2025-01-11T20:36:31.757041Z"
    }
   },
   "outputs": [],
   "execution_count": null
  }
 ],
 "metadata": {
  "kernelspec": {
   "display_name": "Python 3",
   "language": "python",
   "name": "python3"
  },
  "language_info": {
   "codemirror_mode": {
    "name": "ipython",
    "version": 2
   },
   "file_extension": ".py",
   "mimetype": "text/x-python",
   "name": "python",
   "nbconvert_exporter": "python",
   "pygments_lexer": "ipython2",
   "version": "2.7.6"
  }
 },
 "nbformat": 4,
 "nbformat_minor": 0
}

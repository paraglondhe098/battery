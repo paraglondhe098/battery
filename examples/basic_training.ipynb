{
 "cells": [
  {
   "cell_type": "code",
   "metadata": {
    "collapsed": true,
    "ExecuteTime": {
     "end_time": "2025-01-13T09:36:40.978932Z",
     "start_time": "2025-01-13T09:36:38.076228Z"
    }
   },
   "source": "from candle.trainers import Trainer",
   "outputs": [],
   "execution_count": 1
  },
  {
   "cell_type": "code",
   "source": [
    "import torch"
   ],
   "metadata": {
    "collapsed": false,
    "ExecuteTime": {
     "end_time": "2025-01-13T09:36:40.994647Z",
     "start_time": "2025-01-13T09:36:40.988526Z"
    }
   },
   "outputs": [],
   "execution_count": 2
  },
  {
   "cell_type": "code",
   "source": [
    "device = torch.device('cuda' if torch.cuda.is_available() else 'cpu')\n",
    "device"
   ],
   "metadata": {
    "collapsed": false,
    "ExecuteTime": {
     "end_time": "2025-01-13T09:36:41.260223Z",
     "start_time": "2025-01-13T09:36:41.229606Z"
    }
   },
   "outputs": [
    {
     "data": {
      "text/plain": [
       "device(type='cuda')"
      ]
     },
     "execution_count": 3,
     "metadata": {},
     "output_type": "execute_result"
    }
   ],
   "execution_count": 3
  },
  {
   "cell_type": "code",
   "source": [
    "from torchvision.datasets import MNIST"
   ],
   "metadata": {
    "collapsed": false,
    "ExecuteTime": {
     "end_time": "2025-01-13T09:36:43.097986Z",
     "start_time": "2025-01-13T09:36:41.266204Z"
    }
   },
   "outputs": [],
   "execution_count": 4
  },
  {
   "cell_type": "code",
   "source": [
    "from torch.utils.data import DataLoader\n",
    "from torchvision.transforms import transforms"
   ],
   "metadata": {
    "collapsed": false,
    "ExecuteTime": {
     "end_time": "2025-01-13T09:36:43.129377Z",
     "start_time": "2025-01-13T09:36:43.115955Z"
    }
   },
   "outputs": [],
   "execution_count": 5
  },
  {
   "cell_type": "code",
   "source": [
    "import torch\n",
    "print(torch.__version__)\n",
    "print(torch.version.cuda)  # Displays CUDA version"
   ],
   "metadata": {
    "collapsed": false,
    "ExecuteTime": {
     "end_time": "2025-01-13T09:36:43.160355Z",
     "start_time": "2025-01-13T09:36:43.147164Z"
    }
   },
   "outputs": [
    {
     "name": "stdout",
     "output_type": "stream",
     "text": [
      "2.5.1+cu124\n",
      "12.4\n"
     ]
    }
   ],
   "execution_count": 6
  },
  {
   "cell_type": "code",
   "source": [
    "!nvcc --version"
   ],
   "metadata": {
    "collapsed": false,
    "ExecuteTime": {
     "end_time": "2025-01-13T09:36:43.238785Z",
     "start_time": "2025-01-13T09:36:43.177705Z"
    }
   },
   "outputs": [
    {
     "name": "stdout",
     "output_type": "stream",
     "text": [
      "nvcc: NVIDIA (R) Cuda compiler driver\n",
      "Copyright (c) 2005-2024 NVIDIA Corporation\n",
      "Built on Tue_Feb_27_16:28:36_Pacific_Standard_Time_2024\n",
      "Cuda compilation tools, release 12.4, V12.4.99\n",
      "Build cuda_12.4.r12.4/compiler.33961263_0\n"
     ]
    }
   ],
   "execution_count": 7
  },
  {
   "cell_type": "code",
   "source": [
    "transform = transforms.Compose([\n",
    "    transforms.ToTensor(),\n",
    "    transforms.Normalize((0.1307,), (0.3081,))  # Mean and standard deviation for MNIST\n",
    "])\n",
    "\n",
    "# Step 2: Load the MNIST dataset\n",
    "train_ds = MNIST(root='./data', train=True, download=True, transform=transform)\n",
    "val_ds = MNIST(root='./data', train=False, download=True, transform=transform)\n",
    "\n",
    "# Step 3: Create DataLoaders\n",
    "train_loader = DataLoader(dataset=train_ds, batch_size=64, shuffle=True)\n",
    "val_loader = DataLoader(dataset=val_ds, batch_size=64, shuffle=False)"
   ],
   "metadata": {
    "collapsed": false,
    "ExecuteTime": {
     "end_time": "2025-01-13T09:36:43.300258Z",
     "start_time": "2025-01-13T09:36:43.256494Z"
    }
   },
   "outputs": [],
   "execution_count": 8
  },
  {
   "cell_type": "code",
   "source": [
    "train_ds[0][0].shape"
   ],
   "metadata": {
    "collapsed": false,
    "ExecuteTime": {
     "end_time": "2025-01-13T09:36:43.331121Z",
     "start_time": "2025-01-13T09:36:43.318405Z"
    }
   },
   "outputs": [
    {
     "data": {
      "text/plain": [
       "torch.Size([1, 28, 28])"
      ]
     },
     "execution_count": 9,
     "metadata": {},
     "output_type": "execute_result"
    }
   ],
   "execution_count": 9
  },
  {
   "cell_type": "code",
   "source": [
    "import torch.nn as nn\n",
    "import torch.nn.functional as F"
   ],
   "metadata": {
    "collapsed": false,
    "ExecuteTime": {
     "end_time": "2025-01-13T09:36:43.362480Z",
     "start_time": "2025-01-13T09:36:43.349719Z"
    }
   },
   "outputs": [],
   "execution_count": 10
  },
  {
   "cell_type": "code",
   "source": [
    "class GarmentClassifier(nn.Module):\n",
    "  def __init__(self):\n",
    "    super(GarmentClassifier,self).__init__()\n",
    "    self.pool = nn.MaxPool2d(2, stride=2)\n",
    "    self.conv1 = nn.Conv2d(in_channels=1,out_channels=6,kernel_size=(3,3),padding=1)\n",
    "    self.batchnorm1 = nn.BatchNorm2d(6)\n",
    "    self.conv2 = nn.Conv2d(6, 16, kernel_size=(3,3),padding=1)\n",
    "    self.batchnorm2 = nn.BatchNorm2d(16)\n",
    "    self.conv3 = nn.Conv2d(16, 32, kernel_size=(3,3),padding=1)\n",
    "    self.batchnorm3 = nn.BatchNorm2d(32)\n",
    "    self.conv4 = nn.Conv2d(32, 64, kernel_size=(3,3),padding=1)\n",
    "    self.batchnorm4 = nn.BatchNorm2d(64)\n",
    "    self.fc1 = nn.Linear(64 * 1 * 1, 128)\n",
    "    self.batchnorm5 = nn.BatchNorm1d(128)\n",
    "    self.fc2 = nn.Linear(128, 128)\n",
    "    self.batchnorm6 = nn.BatchNorm1d(128)\n",
    "    self.fc3 = nn.Linear(128, 64)\n",
    "    self.batchnorm7 = nn.BatchNorm1d(64)\n",
    "    self.fc4 = nn.Linear(64, 32)\n",
    "    self.batchnorm8 = nn.BatchNorm1d(32)\n",
    "    self.fc5 = nn.Linear(32, 10)\n",
    "    self.dropout = nn.Dropout1d(0.1)\n",
    "  def forward(self,x):\n",
    "    x = self.pool(F.mish(self.batchnorm1(self.conv1(x))))\n",
    "    x = self.pool(F.mish(self.batchnorm2(self.conv2(x))))\n",
    "    x = self.pool(F.mish(self.batchnorm3(self.conv3(x))))\n",
    "    x = self.pool(F.mish(self.batchnorm4(self.conv4(x))))\n",
    "    x = x.view(-1, 64 * 1 * 1)\n",
    "    x = self.dropout(x)\n",
    "    x = F.leaky_relu(self.batchnorm5(self.fc1(x)))\n",
    "    x = F.leaky_relu(self.batchnorm6(self.fc2(x)))\n",
    "    x = F.leaky_relu(self.batchnorm7(self.fc3(x)))\n",
    "    x = F.leaky_relu(self.batchnorm8(self.fc4(x)))\n",
    "    x = self.fc5(x)\n",
    "    return x\n"
   ],
   "metadata": {
    "collapsed": false,
    "ExecuteTime": {
     "end_time": "2025-01-13T09:36:43.409302Z",
     "start_time": "2025-01-13T09:36:43.381060Z"
    }
   },
   "outputs": [],
   "execution_count": 11
  },
  {
   "metadata": {
    "ExecuteTime": {
     "end_time": "2025-01-13T09:36:43.440690Z",
     "start_time": "2025-01-13T09:36:43.427200Z"
    }
   },
   "cell_type": "code",
   "source": "",
   "outputs": [],
   "execution_count": null
  },
  {
   "cell_type": "code",
   "source": [
    "# model = BasicCNNClassifier(input_shape=(1,28,28), num_output_classes=10)\n",
    "model = GarmentClassifier()\n",
    "model = model.to(device)\n"
   ],
   "metadata": {
    "collapsed": false,
    "ExecuteTime": {
     "end_time": "2025-01-13T09:36:43.580445Z",
     "start_time": "2025-01-13T09:36:43.458511Z"
    }
   },
   "outputs": [],
   "execution_count": 12
  },
  {
   "cell_type": "code",
   "source": [
    "from torchsummary import summary\n",
    "summary(model, input_size=(1, 28, 28))"
   ],
   "metadata": {
    "collapsed": false,
    "ExecuteTime": {
     "end_time": "2025-01-13T09:36:43.859316Z",
     "start_time": "2025-01-13T09:36:43.598301Z"
    }
   },
   "outputs": [
    {
     "name": "stdout",
     "output_type": "stream",
     "text": [
      "----------------------------------------------------------------\n",
      "        Layer (type)               Output Shape         Param #\n",
      "================================================================\n",
      "            Conv2d-1            [-1, 6, 28, 28]              60\n",
      "       BatchNorm2d-2            [-1, 6, 28, 28]              12\n",
      "         MaxPool2d-3            [-1, 6, 14, 14]               0\n",
      "            Conv2d-4           [-1, 16, 14, 14]             880\n",
      "       BatchNorm2d-5           [-1, 16, 14, 14]              32\n",
      "         MaxPool2d-6             [-1, 16, 7, 7]               0\n",
      "            Conv2d-7             [-1, 32, 7, 7]           4,640\n",
      "       BatchNorm2d-8             [-1, 32, 7, 7]              64\n",
      "         MaxPool2d-9             [-1, 32, 3, 3]               0\n",
      "           Conv2d-10             [-1, 64, 3, 3]          18,496\n",
      "      BatchNorm2d-11             [-1, 64, 3, 3]             128\n",
      "        MaxPool2d-12             [-1, 64, 1, 1]               0\n",
      "        Dropout1d-13                   [-1, 64]               0\n",
      "           Linear-14                  [-1, 128]           8,320\n",
      "      BatchNorm1d-15                  [-1, 128]             256\n",
      "           Linear-16                  [-1, 128]          16,512\n",
      "      BatchNorm1d-17                  [-1, 128]             256\n",
      "           Linear-18                   [-1, 64]           8,256\n",
      "      BatchNorm1d-19                   [-1, 64]             128\n",
      "           Linear-20                   [-1, 32]           2,080\n",
      "      BatchNorm1d-21                   [-1, 32]              64\n",
      "           Linear-22                   [-1, 10]             330\n",
      "================================================================\n",
      "Total params: 60,514\n",
      "Trainable params: 60,514\n",
      "Non-trainable params: 0\n",
      "----------------------------------------------------------------\n",
      "Input size (MB): 0.00\n",
      "Forward/backward pass size (MB): 0.18\n",
      "Params size (MB): 0.23\n",
      "Estimated Total Size (MB): 0.41\n",
      "----------------------------------------------------------------\n"
     ]
    }
   ],
   "execution_count": 13
  },
  {
   "cell_type": "code",
   "source": [
    "loss_fn = torch.nn.CrossEntropyLoss()\n",
    "optimizer = torch.optim.Adam(model.parameters(), lr=0.01)"
   ],
   "metadata": {
    "collapsed": false,
    "ExecuteTime": {
     "end_time": "2025-01-13T09:36:43.952937Z",
     "start_time": "2025-01-13T09:36:43.933056Z"
    }
   },
   "outputs": [],
   "execution_count": 14
  },
  {
   "cell_type": "code",
   "source": [
    "from candle.metrics import Accuracy"
   ],
   "metadata": {
    "collapsed": false,
    "ExecuteTime": {
     "end_time": "2025-01-13T09:36:43.984080Z",
     "start_time": "2025-01-13T09:36:43.971380Z"
    }
   },
   "outputs": [],
   "execution_count": 15
  },
  {
   "cell_type": "code",
   "source": [
    "accuracy = Accuracy(binary_output=False)"
   ],
   "metadata": {
    "collapsed": false,
    "ExecuteTime": {
     "end_time": "2025-01-13T09:36:44.015409Z",
     "start_time": "2025-01-13T09:36:44.001434Z"
    }
   },
   "outputs": [],
   "execution_count": 16
  },
  {
   "metadata": {
    "ExecuteTime": {
     "end_time": "2025-01-13T09:36:44.046668Z",
     "start_time": "2025-01-13T09:36:44.033507Z"
    }
   },
   "cell_type": "code",
   "source": "from candle.callbacks import EarlyStopping, LRTracker, ConsoleLogger",
   "outputs": [],
   "execution_count": 17
  },
  {
   "metadata": {
    "ExecuteTime": {
     "end_time": "2025-01-13T09:37:21.250425Z",
     "start_time": "2025-01-13T09:37:21.237336Z"
    }
   },
   "cell_type": "code",
   "source": [
    "callbacks = [\n",
    "            ConsoleLogger(),\n",
    "            EarlyStopping(basis=\"val_accuracy\", metric_minimize=True, patience=1),\n",
    "            LRTracker()]"
   ],
   "outputs": [],
   "execution_count": 22
  },
  {
   "metadata": {
    "ExecuteTime": {
     "end_time": "2025-01-13T09:37:21.657350Z",
     "start_time": "2025-01-13T09:37:21.644284Z"
    }
   },
   "cell_type": "code",
   "source": [
    "trainer = Trainer( model,\n",
    "                 criterion=loss_fn,\n",
    "                 optimizer=optimizer,\n",
    "                 metrics=[accuracy],\n",
    "                 callbacks= callbacks,\n",
    "                 use_amp= True,\n",
    "                 device=device)"
   ],
   "outputs": [],
   "execution_count": 23
  },
  {
   "metadata": {
    "ExecuteTime": {
     "end_time": "2025-01-13T09:37:22.014229Z",
     "start_time": "2025-01-13T09:37:22.001229Z"
    }
   },
   "cell_type": "code",
   "source": "trainer.callbacks.callbacks",
   "outputs": [
    {
     "data": {
      "text/plain": [
       "[<candle.callbacks.console_logger.ConsoleLogger at 0x15384bae6b0>,\n",
       " <candle.callbacks.early_stopping.EarlyStopping at 0x15384bae740>,\n",
       " <candle.callbacks.lr_handlers.LRTracker at 0x15384bae800>]"
      ]
     },
     "execution_count": 24,
     "metadata": {},
     "output_type": "execute_result"
    }
   ],
   "execution_count": 24
  },
  {
   "cell_type": "code",
   "source": [
    "history = trainer.fit(train_loader,val_loader, epochs=5, epoch_start=0)"
   ],
   "metadata": {
    "collapsed": false,
    "ExecuteTime": {
     "end_time": "2025-01-13T09:38:13.367123Z",
     "start_time": "2025-01-13T09:37:22.466472Z"
    }
   },
   "outputs": [
    {
     "name": "stderr",
     "output_type": "stream",
     "text": [
      "---------------------------------------------Progress---------------------------------------------\n",
      "EPOCH 0: 100%|██████████| 938/938 [00:20<00:00, 44.95it/s]\n",
      "--> Metrics:   accuracy: 0.8824 ,val_accuracy: 0.9704 ,loss: 0.3319 ,val_loss: 0.0957\n",
      "Time elapsed: 23.474399089813232 s\n",
      "----------------------------------------------------------------------------------------------------\n",
      "EPOCH 1: 100%|██████████| 938/938 [00:23<00:00, 39.22it/s]\n",
      "--> Metrics:   accuracy: 0.8939 ,val_accuracy: 0.9851 ,loss: 0.2946 ,val_loss: 0.0539\n",
      "Time elapsed: 49.87034225463867 s\n",
      "----------------------------------------------------------------------------------------------------\n",
      "Early-stopping at epoch 1, basis : val_accuracy↑\n",
      "----------------------------------------------------------------------------------------------------\n",
      "Restoring best weights...\n",
      "\tBest epoch: 0\n",
      "\tTraining loss: 0.3319\n",
      "\tValidation loss: 0.0957\n",
      "\tTraining accuracy: 0.8824\n",
      "\tValidation accuracy: 0.9704\n",
      "----------------------------------------------------------------------------------------------------\n"
     ]
    }
   ],
   "execution_count": 25
  },
  {
   "metadata": {
    "ExecuteTime": {
     "end_time": "2025-01-13T07:44:38.986393Z",
     "start_time": "2025-01-13T07:44:38.965948Z"
    }
   },
   "cell_type": "code",
   "source": "history",
   "outputs": [
    {
     "name": "stdout",
     "output_type": "stream",
     "text": [
      "history\n"
     ]
    }
   ],
   "execution_count": 1
  },
  {
   "cell_type": "code",
   "source": [
    "# trainer.load_progress(r\"F:\\Projects\\ML\\MyLibs\\furnance\\temp\\saves\")"
   ],
   "metadata": {
    "collapsed": false,
    "ExecuteTime": {
     "end_time": "2025-01-12T20:53:54.418512100Z",
     "start_time": "2025-01-12T08:04:01.697389Z"
    }
   },
   "outputs": [],
   "execution_count": 21
  },
  {
   "cell_type": "code",
   "source": "trainer.tracker['val_accuracy'].latest",
   "metadata": {
    "collapsed": false,
    "ExecuteTime": {
     "end_time": "2025-01-12T20:53:54.418512100Z",
     "start_time": "2025-01-12T08:04:01.731501Z"
    }
   },
   "outputs": [
    {
     "data": {
      "text/plain": [
       "0.9835788216560509"
      ]
     },
     "execution_count": 22,
     "metadata": {},
     "output_type": "execute_result"
    }
   ],
   "execution_count": 22
  },
  {
   "metadata": {
    "ExecuteTime": {
     "end_time": "2025-01-12T20:53:54.422940200Z",
     "start_time": "2025-01-12T08:04:22.686933Z"
    }
   },
   "cell_type": "code",
   "source": "trainer.tracker['val_accuracy'][1]",
   "outputs": [
    {
     "data": {
      "text/plain": [
       "0.9835788216560509"
      ]
     },
     "execution_count": 25,
     "metadata": {},
     "output_type": "execute_result"
    }
   ],
   "execution_count": 25
  },
  {
   "metadata": {},
   "cell_type": "code",
   "outputs": [],
   "execution_count": null,
   "source": ""
  }
 ],
 "metadata": {
  "kernelspec": {
   "display_name": "Python 3",
   "language": "python",
   "name": "python3"
  },
  "language_info": {
   "codemirror_mode": {
    "name": "ipython",
    "version": 2
   },
   "file_extension": ".py",
   "mimetype": "text/x-python",
   "name": "python",
   "nbconvert_exporter": "python",
   "pygments_lexer": "ipython2",
   "version": "2.7.6"
  }
 },
 "nbformat": 4,
 "nbformat_minor": 0
}

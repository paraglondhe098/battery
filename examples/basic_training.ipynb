{
 "cells": [
  {
   "cell_type": "code",
   "execution_count": 1,
   "metadata": {
    "collapsed": true,
    "ExecuteTime": {
     "end_time": "2024-12-29T13:37:29.202594Z",
     "start_time": "2024-12-29T13:37:26.490452300Z"
    }
   },
   "outputs": [],
   "source": [
    "from candle.trainer import Trainer\n",
    "from candle.callbacks import EarlyStopping\n",
    "import os"
   ]
  },
  {
   "cell_type": "code",
   "execution_count": 2,
   "outputs": [],
   "source": [
    "import torch"
   ],
   "metadata": {
    "collapsed": false,
    "ExecuteTime": {
     "end_time": "2024-12-29T13:37:29.218372100Z",
     "start_time": "2024-12-29T13:37:29.205605900Z"
    }
   }
  },
  {
   "cell_type": "code",
   "execution_count": 3,
   "outputs": [
    {
     "data": {
      "text/plain": "device(type='cuda')"
     },
     "execution_count": 3,
     "metadata": {},
     "output_type": "execute_result"
    }
   ],
   "source": [
    "device = torch.device('cuda' if torch.cuda.is_available() else 'cpu')\n",
    "device"
   ],
   "metadata": {
    "collapsed": false,
    "ExecuteTime": {
     "end_time": "2024-12-29T13:37:29.250854300Z",
     "start_time": "2024-12-29T13:37:29.219381400Z"
    }
   }
  },
  {
   "cell_type": "code",
   "execution_count": 4,
   "outputs": [],
   "source": [
    "from torchvision.datasets import MNIST"
   ],
   "metadata": {
    "collapsed": false,
    "ExecuteTime": {
     "end_time": "2024-12-29T13:37:30.723040300Z",
     "start_time": "2024-12-29T13:37:29.250854300Z"
    }
   }
  },
  {
   "cell_type": "code",
   "execution_count": 5,
   "outputs": [],
   "source": [
    "from torch.utils.data import DataLoader\n",
    "from torchvision.transforms import transforms"
   ],
   "metadata": {
    "collapsed": false,
    "ExecuteTime": {
     "end_time": "2024-12-29T13:37:30.739017600Z",
     "start_time": "2024-12-29T13:37:30.725044200Z"
    }
   }
  },
  {
   "cell_type": "code",
   "execution_count": 6,
   "outputs": [
    {
     "name": "stdout",
     "output_type": "stream",
     "text": [
      "2.5.1+cu124\n",
      "12.4\n"
     ]
    }
   ],
   "source": [
    "import torch\n",
    "print(torch.__version__)\n",
    "print(torch.version.cuda)  # Displays CUDA version"
   ],
   "metadata": {
    "collapsed": false,
    "ExecuteTime": {
     "end_time": "2024-12-29T13:37:30.785560800Z",
     "start_time": "2024-12-29T13:37:30.741016400Z"
    }
   }
  },
  {
   "cell_type": "code",
   "execution_count": 7,
   "outputs": [
    {
     "name": "stdout",
     "output_type": "stream",
     "text": [
      "nvcc: NVIDIA (R) Cuda compiler driver\n",
      "Copyright (c) 2005-2024 NVIDIA Corporation\n",
      "Built on Tue_Feb_27_16:28:36_Pacific_Standard_Time_2024\n",
      "Cuda compilation tools, release 12.4, V12.4.99\n",
      "Build cuda_12.4.r12.4/compiler.33961263_0\n"
     ]
    }
   ],
   "source": [
    "!nvcc --version"
   ],
   "metadata": {
    "collapsed": false,
    "ExecuteTime": {
     "end_time": "2024-12-29T13:37:30.847610800Z",
     "start_time": "2024-12-29T13:37:30.757023200Z"
    }
   }
  },
  {
   "cell_type": "code",
   "execution_count": 8,
   "outputs": [],
   "source": [
    "transform = transforms.Compose([\n",
    "    transforms.ToTensor(),\n",
    "    transforms.Normalize((0.1307,), (0.3081,))  # Mean and standard deviation for MNIST\n",
    "])\n",
    "\n",
    "# Step 2: Load the MNIST dataset\n",
    "train_ds = MNIST(root='./data', train=True, download=True, transform=transform)\n",
    "val_ds = MNIST(root='./data', train=False, download=True, transform=transform)\n",
    "\n",
    "# Step 3: Create DataLoaders\n",
    "train_loader = DataLoader(dataset=train_ds, batch_size=64, shuffle=True)\n",
    "val_loader = DataLoader(dataset=val_ds, batch_size=64, shuffle=False)"
   ],
   "metadata": {
    "collapsed": false,
    "ExecuteTime": {
     "end_time": "2024-12-29T13:37:30.868044100Z",
     "start_time": "2024-12-29T13:37:30.821576800Z"
    }
   }
  },
  {
   "cell_type": "code",
   "execution_count": 9,
   "outputs": [
    {
     "data": {
      "text/plain": "torch.Size([1, 28, 28])"
     },
     "execution_count": 9,
     "metadata": {},
     "output_type": "execute_result"
    }
   ],
   "source": [
    "train_ds[0][0].shape"
   ],
   "metadata": {
    "collapsed": false,
    "ExecuteTime": {
     "end_time": "2024-12-29T13:37:30.909536800Z",
     "start_time": "2024-12-29T13:37:30.867047500Z"
    }
   }
  },
  {
   "cell_type": "code",
   "execution_count": 10,
   "outputs": [],
   "source": [
    "import torch.nn as nn\n",
    "import torch.nn.functional as F"
   ],
   "metadata": {
    "collapsed": false,
    "ExecuteTime": {
     "end_time": "2024-12-29T13:37:30.912535800Z",
     "start_time": "2024-12-29T13:37:30.880505200Z"
    }
   }
  },
  {
   "cell_type": "code",
   "execution_count": 11,
   "outputs": [],
   "source": [
    "class GarmentClassifier(nn.Module):\n",
    "  def __init__(self):\n",
    "    super(GarmentClassifier,self).__init__()\n",
    "    self.pool = nn.MaxPool2d(2, stride=2)\n",
    "    self.conv1 = nn.Conv2d(in_channels=1,out_channels=6,kernel_size=(3,3),padding=1)\n",
    "    self.batchnorm1 = nn.BatchNorm2d(6)\n",
    "    self.conv2 = nn.Conv2d(6, 16, kernel_size=(3,3),padding=1)\n",
    "    self.batchnorm2 = nn.BatchNorm2d(16)\n",
    "    self.conv3 = nn.Conv2d(16, 32, kernel_size=(3,3),padding=1)\n",
    "    self.batchnorm3 = nn.BatchNorm2d(32)\n",
    "    self.conv4 = nn.Conv2d(32, 64, kernel_size=(3,3),padding=1)\n",
    "    self.batchnorm4 = nn.BatchNorm2d(64)\n",
    "    self.fc1 = nn.Linear(64 * 1 * 1, 128)\n",
    "    self.batchnorm5 = nn.BatchNorm1d(128)\n",
    "    self.fc2 = nn.Linear(128, 128)\n",
    "    self.batchnorm6 = nn.BatchNorm1d(128)\n",
    "    self.fc3 = nn.Linear(128, 64)\n",
    "    self.batchnorm7 = nn.BatchNorm1d(64)\n",
    "    self.fc4 = nn.Linear(64, 32)\n",
    "    self.batchnorm8 = nn.BatchNorm1d(32)\n",
    "    self.fc5 = nn.Linear(32, 10)\n",
    "    self.dropout = nn.Dropout1d(0.1)\n",
    "  def forward(self,x):\n",
    "    x = self.pool(F.mish(self.batchnorm1(self.conv1(x))))\n",
    "    x = self.pool(F.mish(self.batchnorm2(self.conv2(x))))\n",
    "    x = self.pool(F.mish(self.batchnorm3(self.conv3(x))))\n",
    "    x = self.pool(F.mish(self.batchnorm4(self.conv4(x))))\n",
    "    x = x.view(-1, 64 * 1 * 1)\n",
    "    x = self.dropout(x)\n",
    "    x = F.leaky_relu(self.batchnorm5(self.fc1(x)))\n",
    "    x = F.leaky_relu(self.batchnorm6(self.fc2(x)))\n",
    "    x = F.leaky_relu(self.batchnorm7(self.fc3(x)))\n",
    "    x = F.leaky_relu(self.batchnorm8(self.fc4(x)))\n",
    "    x = self.fc5(x)\n",
    "    return x\n"
   ],
   "metadata": {
    "collapsed": false,
    "ExecuteTime": {
     "end_time": "2024-12-29T13:37:30.912535800Z",
     "start_time": "2024-12-29T13:37:30.909536800Z"
    }
   }
  },
  {
   "cell_type": "code",
   "execution_count": 12,
   "outputs": [],
   "source": [
    "model = GarmentClassifier()\n",
    "model = model.to(device)"
   ],
   "metadata": {
    "collapsed": false,
    "ExecuteTime": {
     "end_time": "2024-12-29T13:37:31.019291400Z",
     "start_time": "2024-12-29T13:37:30.913541100Z"
    }
   }
  },
  {
   "cell_type": "code",
   "execution_count": 13,
   "outputs": [
    {
     "name": "stdout",
     "output_type": "stream",
     "text": [
      "----------------------------------------------------------------\n",
      "        Layer (type)               Output Shape         Param #\n",
      "================================================================\n",
      "            Conv2d-1            [-1, 6, 28, 28]              60\n",
      "       BatchNorm2d-2            [-1, 6, 28, 28]              12\n",
      "         MaxPool2d-3            [-1, 6, 14, 14]               0\n",
      "            Conv2d-4           [-1, 16, 14, 14]             880\n",
      "       BatchNorm2d-5           [-1, 16, 14, 14]              32\n",
      "         MaxPool2d-6             [-1, 16, 7, 7]               0\n",
      "            Conv2d-7             [-1, 32, 7, 7]           4,640\n",
      "       BatchNorm2d-8             [-1, 32, 7, 7]              64\n",
      "         MaxPool2d-9             [-1, 32, 3, 3]               0\n",
      "           Conv2d-10             [-1, 64, 3, 3]          18,496\n",
      "      BatchNorm2d-11             [-1, 64, 3, 3]             128\n",
      "        MaxPool2d-12             [-1, 64, 1, 1]               0\n",
      "        Dropout1d-13                   [-1, 64]               0\n",
      "           Linear-14                  [-1, 128]           8,320\n",
      "      BatchNorm1d-15                  [-1, 128]             256\n",
      "           Linear-16                  [-1, 128]          16,512\n",
      "      BatchNorm1d-17                  [-1, 128]             256\n",
      "           Linear-18                   [-1, 64]           8,256\n",
      "      BatchNorm1d-19                   [-1, 64]             128\n",
      "           Linear-20                   [-1, 32]           2,080\n",
      "      BatchNorm1d-21                   [-1, 32]              64\n",
      "           Linear-22                   [-1, 10]             330\n",
      "================================================================\n",
      "Total params: 60,514\n",
      "Trainable params: 60,514\n",
      "Non-trainable params: 0\n",
      "----------------------------------------------------------------\n",
      "Input size (MB): 0.00\n",
      "Forward/backward pass size (MB): 0.18\n",
      "Params size (MB): 0.23\n",
      "Estimated Total Size (MB): 0.41\n",
      "----------------------------------------------------------------\n"
     ]
    }
   ],
   "source": [
    "from torchsummary import summary\n",
    "summary(model, input_size=(1, 28, 28))"
   ],
   "metadata": {
    "collapsed": false,
    "ExecuteTime": {
     "end_time": "2024-12-29T13:37:31.253425400Z",
     "start_time": "2024-12-29T13:37:31.021291100Z"
    }
   }
  },
  {
   "cell_type": "code",
   "execution_count": 14,
   "outputs": [],
   "source": [
    "loss_fn = torch.nn.CrossEntropyLoss()\n",
    "optimizer = torch.optim.Adam(model.parameters(), lr=0.01)"
   ],
   "metadata": {
    "collapsed": false,
    "ExecuteTime": {
     "end_time": "2024-12-29T13:37:31.283927300Z",
     "start_time": "2024-12-29T13:37:31.257428Z"
    }
   }
  },
  {
   "cell_type": "code",
   "execution_count": 15,
   "outputs": [],
   "source": [
    "from candle.metrics import Accuracy"
   ],
   "metadata": {
    "collapsed": false,
    "ExecuteTime": {
     "end_time": "2024-12-29T13:37:31.289929400Z",
     "start_time": "2024-12-29T13:37:31.271772900Z"
    }
   }
  },
  {
   "cell_type": "code",
   "execution_count": 16,
   "outputs": [],
   "source": [
    "accuracy = Accuracy(binary_output=False)"
   ],
   "metadata": {
    "collapsed": false,
    "ExecuteTime": {
     "end_time": "2024-12-29T13:37:31.300927600Z",
     "start_time": "2024-12-29T13:37:31.287930300Z"
    }
   }
  },
  {
   "cell_type": "code",
   "execution_count": 16,
   "outputs": [],
   "source": [],
   "metadata": {
    "collapsed": false,
    "ExecuteTime": {
     "end_time": "2024-12-29T13:37:31.319416100Z",
     "start_time": "2024-12-29T13:37:31.301927400Z"
    }
   }
  },
  {
   "cell_type": "code",
   "execution_count": 17,
   "outputs": [],
   "source": [
    "trainer = Trainer( model,\n",
    "                 criterion=loss_fn,\n",
    "                 input_shape=(1,28,28),\n",
    "                 optimizer=optimizer,\n",
    "                 display_time_elapsed=False,\n",
    "                 metrics=[accuracy],\n",
    "                 callbacks= [EarlyStopping(basis=\"val_accuracy\", metric_minimize=True, patience=1)],\n",
    "                 device=device)"
   ],
   "metadata": {
    "collapsed": false,
    "ExecuteTime": {
     "end_time": "2024-12-29T13:37:31.331595900Z",
     "start_time": "2024-12-29T13:37:31.318412300Z"
    }
   }
  },
  {
   "cell_type": "code",
   "execution_count": 18,
   "outputs": [
    {
     "name": "stderr",
     "output_type": "stream",
     "text": [
      "EPOCH 0: : 938it [00:20, 46.76it/s]\n",
      "--> Metrics:   accuracy: 0.8621 ,val_accuracy: 0.9733 ,loss: 0.3983 ,val_loss: 0.0931\n",
      "----------------------------------------------------------------------------------------------------\n",
      "EPOCH 1: : 938it [00:21, 43.96it/s]\n",
      "--> Metrics:   accuracy: 0.8896 ,val_accuracy: 0.9847 ,loss: 0.3070 ,val_loss: 0.0538\n",
      "----------------------------------------------------------------------------------------------------\n",
      "EPOCH 2: : 938it [00:21, 44.15it/s]\n",
      "--> Metrics:   accuracy: 0.8944 ,val_accuracy: 0.9868 ,loss: 0.2868 ,val_loss: 0.0451\n",
      "----------------------------------------------------------------------------------------------------\n",
      "EPOCH 3: : 938it [00:21, 44.15it/s]\n",
      "--> Metrics:   accuracy: 0.8974 ,val_accuracy: 0.9855 ,loss: 0.2803 ,val_loss: 0.0488\n",
      "Early-stopping at epoch 3, basis : val_accuracy↑\n",
      "----------------------------------------------------------------------------------------------------\n",
      "Restoring best weights...\n",
      "\tBest epoch: 0\n",
      "\tTraining loss: 0.3983\n",
      "\tValidation loss: 0.0931\n",
      "\tTraining accuracy: 0.8621\n",
      "\tValidation accuracy: 0.9733\n",
      "----------------------------------------------------------------------------------------------------\n"
     ]
    }
   ],
   "source": [
    "history = trainer.fit(train_loader,val_loader, epochs=5, epoch_start=0)"
   ],
   "metadata": {
    "collapsed": false,
    "ExecuteTime": {
     "end_time": "2024-12-29T13:39:03.937500900Z",
     "start_time": "2024-12-29T13:37:31.332597400Z"
    }
   }
  },
  {
   "cell_type": "code",
   "execution_count": 20,
   "outputs": [
    {
     "name": "stderr",
     "output_type": "stream",
     "text": [
      "Successfully saved progress!\n"
     ]
    }
   ],
   "source": [
    "# trainer.load_progress(r\"F:\\Projects\\ML\\MyLibs\\furnance\\temp\\saves\")"
   ],
   "metadata": {
    "collapsed": false,
    "ExecuteTime": {
     "end_time": "2024-12-29T13:39:44.223010Z",
     "start_time": "2024-12-29T13:39:44.066710600Z"
    }
   }
  },
  {
   "cell_type": "code",
   "execution_count": 20,
   "outputs": [],
   "source": [
    "\n",
    "cwd = os.getcwd()"
   ],
   "metadata": {
    "collapsed": false,
    "ExecuteTime": {
     "end_time": "2024-12-29T13:32:35.761670800Z",
     "start_time": "2024-12-29T13:32:35.740913800Z"
    }
   }
  },
  {
   "cell_type": "code",
   "execution_count": 21,
   "outputs": [],
   "source": [
    "os.environ[\"random______gid\"] = \"true\""
   ],
   "metadata": {
    "collapsed": false,
    "ExecuteTime": {
     "end_time": "2024-12-29T13:32:35.772663700Z",
     "start_time": "2024-12-29T13:32:35.758663200Z"
    }
   }
  },
  {
   "cell_type": "code",
   "execution_count": 22,
   "outputs": [
    {
     "data": {
      "text/plain": "False"
     },
     "execution_count": 22,
     "metadata": {},
     "output_type": "execute_result"
    }
   ],
   "source": [
    "os.environ.get(\"random______gidf\", False)"
   ],
   "metadata": {
    "collapsed": false,
    "ExecuteTime": {
     "end_time": "2024-12-29T13:32:35.817887700Z",
     "start_time": "2024-12-29T13:32:35.774665900Z"
    }
   }
  },
  {
   "cell_type": "code",
   "execution_count": 23,
   "outputs": [
    {
     "data": {
      "text/plain": "'F:\\\\Projects\\\\ML\\\\MyLibs\\\\furnance\\\\examples\\\\examples\\\\Hi'"
     },
     "execution_count": 23,
     "metadata": {},
     "output_type": "execute_result"
    }
   ],
   "source": [
    "os.path.join(os.getcwd(), \"examples\\Hi\")"
   ],
   "metadata": {
    "collapsed": false,
    "ExecuteTime": {
     "end_time": "2024-12-29T13:32:35.823329400Z",
     "start_time": "2024-12-29T13:32:35.790664900Z"
    }
   }
  },
  {
   "cell_type": "code",
   "execution_count": 24,
   "outputs": [],
   "source": [
    "# trainer.tracker.metrics['val_accuracy'].latest"
   ],
   "metadata": {
    "collapsed": false,
    "ExecuteTime": {
     "end_time": "2024-12-29T13:32:35.823329400Z",
     "start_time": "2024-12-29T13:32:35.817887700Z"
    }
   }
  },
  {
   "cell_type": "code",
   "execution_count": 25,
   "outputs": [
    {
     "name": "stderr",
     "output_type": "stream",
     "text": [
      "Hello\n"
     ]
    }
   ],
   "source": [
    "trainer.logger.info(\"Hello\")"
   ],
   "metadata": {
    "collapsed": false,
    "ExecuteTime": {
     "end_time": "2024-12-29T13:32:35.836324Z",
     "start_time": "2024-12-29T13:32:35.822327700Z"
    }
   }
  },
  {
   "cell_type": "code",
   "execution_count": 26,
   "outputs": [],
   "source": [
    "trainer.logger.debug(\"Hello\")"
   ],
   "metadata": {
    "collapsed": false,
    "ExecuteTime": {
     "end_time": "2024-12-29T13:32:35.880584700Z",
     "start_time": "2024-12-29T13:32:35.836324Z"
    }
   }
  },
  {
   "cell_type": "code",
   "execution_count": 27,
   "outputs": [
    {
     "data": {
      "text/plain": "<Logger SimpleTrainer (INFO)>"
     },
     "execution_count": 27,
     "metadata": {},
     "output_type": "execute_result"
    }
   ],
   "source": [
    "trainer.logger"
   ],
   "metadata": {
    "collapsed": false,
    "ExecuteTime": {
     "end_time": "2024-12-29T13:32:35.888590500Z",
     "start_time": "2024-12-29T13:32:35.853324Z"
    }
   }
  },
  {
   "cell_type": "code",
   "execution_count": 28,
   "outputs": [
    {
     "name": "stderr",
     "output_type": "stream",
     "text": [
      "w\n"
     ]
    }
   ],
   "source": [
    "trainer.logger.warning(\"w\")"
   ],
   "metadata": {
    "collapsed": false,
    "ExecuteTime": {
     "end_time": "2024-12-29T13:32:35.888590500Z",
     "start_time": "2024-12-29T13:32:35.880584700Z"
    }
   }
  },
  {
   "cell_type": "code",
   "execution_count": 28,
   "outputs": [],
   "source": [],
   "metadata": {
    "collapsed": false,
    "ExecuteTime": {
     "end_time": "2024-12-29T13:32:35.910325300Z",
     "start_time": "2024-12-29T13:32:35.882587600Z"
    }
   }
  },
  {
   "cell_type": "code",
   "execution_count": 28,
   "outputs": [],
   "source": [],
   "metadata": {
    "collapsed": false,
    "ExecuteTime": {
     "end_time": "2024-12-29T13:32:35.930504Z",
     "start_time": "2024-12-29T13:32:35.900327900Z"
    }
   }
  }
 ],
 "metadata": {
  "kernelspec": {
   "display_name": "Python 3",
   "language": "python",
   "name": "python3"
  },
  "language_info": {
   "codemirror_mode": {
    "name": "ipython",
    "version": 2
   },
   "file_extension": ".py",
   "mimetype": "text/x-python",
   "name": "python",
   "nbconvert_exporter": "python",
   "pygments_lexer": "ipython2",
   "version": "2.7.6"
  }
 },
 "nbformat": 4,
 "nbformat_minor": 0
}
